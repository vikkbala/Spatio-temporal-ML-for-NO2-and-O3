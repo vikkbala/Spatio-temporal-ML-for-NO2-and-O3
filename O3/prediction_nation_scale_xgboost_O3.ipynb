{
 "cells": [
  {
   "cell_type": "code",
   "execution_count": null,
   "id": "3817dd7f",
   "metadata": {},
   "outputs": [],
   "source": [
    "from IPython.core.display import display, HTML\n",
    "display(HTML(\"<style>.container { width:75% !important; }</style>\"))\n",
    "\n",
    "import pandas as pd\n",
    "import numpy as np"
   ]
  },
  {
   "cell_type": "code",
   "execution_count": null,
   "id": "a65a338c",
   "metadata": {},
   "outputs": [],
   "source": [
    "## load the preprocessed data\n",
    "df = pd.read_csv(\"data_for_ML_O3_24hr_0.1.txt\", sep=\",\", header=None)\n",
    "#print(df.shape)\n",
    "#df.head()\n",
    "\n",
    "df.columns = [\"date\", \"lon\", \"lat\", \"DOW\", \"Season\", \"Tropomi NO2\", \"Tropomi O3\", \"Tropomi HCHO\", \"Tropomi FNR\", \"RD\", \"WS\", \"WD\", \"T\", \"RH\", \"BLH\", \"SP\", \"T2m\", \"DUV\", \"E\", \"EVI\", \"NDVI\", \"Insitu NO2\", \"insitu_o3\"]\n",
    "#df.head()"
   ]
  },
  {
   "cell_type": "code",
   "execution_count": null,
   "id": "9b2d9c77",
   "metadata": {},
   "outputs": [],
   "source": [
    "## input feature and target data spilt \n",
    "\n",
    "df_training = df.drop([], axis=1)\n",
    "df_training.dropna(inplace=True)\n",
    "\n",
    "df_prediction = df.drop([\"insitu_o3\"], axis=1)\n",
    "df_prediction.dropna(inplace=True)\n",
    "\n",
    "#print(df_training.shape)\n",
    "#print(df_prediction.shape)\n",
    "#df_prediction.head()\n",
    "\n",
    "x_train = df_training.iloc[:, 3:-1]\n",
    "y_train = df_training.iloc[:, -1]\n",
    "\n",
    "#df_train = df_training.drop(df_training[(df_training['date'] >= 20200321) & (df_training['date'] <= 20200531)].index)\n",
    "#x_train = df_train.iloc[:, 3:-1]\n",
    "#y_train = df_train.iloc[:, -1]\n",
    "\n",
    "x_test = df_prediction.iloc[:, 3:]\n",
    "\n",
    "#print(x_test.shape)\n",
    "\n",
    "#x_train.head()"
   ]
  },
  {
   "cell_type": "code",
   "execution_count": null,
   "id": "4d5b8050",
   "metadata": {},
   "outputs": [],
   "source": [
    "## training a model using 100 % of data and predict spatially over study domain\n",
    "from xgboost import XGBRegressor\n",
    "xg_reg = XGBRegressor(max_depth=10, learning_rate=0.3, reg_lambda=4, reg_alpha=26, gamma=8, min_child_weight=8, n_estimators=2500)\n",
    "xg_reg.fit(x_train,y_train)\n",
    "\n",
    "y_pred = xg_reg.predict(x_test)\n",
    "print(type(y_pred))"
   ]
  },
  {
   "cell_type": "code",
   "execution_count": null,
   "id": "297ecac6",
   "metadata": {},
   "outputs": [],
   "source": [
    "## save the predictions with other informations\n",
    "np.savetxt(r'x_test_with_oth_info_O3_24hr_xg_0.1.txt', df_prediction.values, fmt='%f')\n",
    "np.savetxt(r'y_pred_xg_O3_24hr_0.1.txt', pd.DataFrame(y_pred).values, fmt='%f')\n",
    "\n",
    "#np.savetxt(r'np.txt', df_prediction.values, fmt='%f')\n",
    "#df_prediction.to_csv('x_test_with_oth_info_xgboost_test.csv')\n",
    "#pd.DataFrame(y_pred).to_csv(\"y_pred_xgboost_test.csv\")\n",
    "#df_prediction.to_csv('x_test_with_oth_info_xg.csv')\n",
    "#pd.DataFrame(y_pred).to_csv(\"y_pred_xg.csv\")"
   ]
  }
 ],
 "metadata": {
  "kernelspec": {
   "display_name": "Python 3 (ipykernel)",
   "language": "python",
   "name": "python3"
  },
  "language_info": {
   "codemirror_mode": {
    "name": "ipython",
    "version": 3
   },
   "file_extension": ".py",
   "mimetype": "text/x-python",
   "name": "python",
   "nbconvert_exporter": "python",
   "pygments_lexer": "ipython3",
   "version": "3.9.7"
  }
 },
 "nbformat": 4,
 "nbformat_minor": 5
}
