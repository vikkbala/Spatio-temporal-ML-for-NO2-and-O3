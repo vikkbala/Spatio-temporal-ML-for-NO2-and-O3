{
 "cells": [
  {
   "cell_type": "code",
   "execution_count": null,
   "id": "d540d511",
   "metadata": {},
   "outputs": [],
   "source": [
    "from IPython.core.display import display, HTML\n",
    "display(HTML(\"<style>.container { width:75% !important; }</style>\"))\n",
    "\n",
    "import pandas as pd\n",
    "import numpy as np"
   ]
  },
  {
   "cell_type": "code",
   "execution_count": null,
   "id": "d3d49472",
   "metadata": {},
   "outputs": [],
   "source": [
    "## load the preprocessed data\n",
    "df = pd.read_csv(\"data_for_ML_NO2_24hr_0.1.txt\", sep=\",\", header=None) \n",
    "#print(df.shape)\n",
    "#df.head()\n",
    "\n",
    "df.columns = [\"date\", \"lon\", \"lat\", \"DOW\", \"Season\", \"Tropomi NO2\", \"RD\",\"WS\", \"WD\", \"T\", \"RH\", \"BLH\", \"SAP\", \"T2m\", \"DUV\", \"E\", \"EVI\", \"NDVI\", \"insitu_no2\"]\n",
    "#df.head()"
   ]
  },
  {
   "cell_type": "code",
   "execution_count": null,
   "id": "fba72a46",
   "metadata": {},
   "outputs": [],
   "source": [
    "## input feature and target data spilt \n",
    "df_training = df.drop([], axis=1)\n",
    "df_training.dropna(inplace=True)\n",
    "\n",
    "df_prediction = df.drop([\"insitu_no2\"], axis=1)\n",
    "df_prediction.dropna(inplace=True)\n",
    "\n",
    "#print(df_training.shape)\n",
    "#print(df_prediction.shape)\n",
    "#df_prediction.head()\n",
    "\n",
    "x_train = df_training.iloc[:, 3:-1]\n",
    "y_train = df_training.iloc[:, -1]\n",
    "\n",
    "#df_train = df_training.drop(df_training[(df_training['date'] >= 20200321) & (df_training['date'] <= 20200531)].index)\n",
    "#x_train = df_train.iloc[:, 3:-1]\n",
    "#y_train = df_train.iloc[:, -1]\n",
    "\n",
    "x_test = df_prediction.iloc[:, 3:]\n",
    "\n",
    "#print(x_test.shape)\n",
    "#x_train.head()"
   ]
  },
  {
   "cell_type": "code",
   "execution_count": null,
   "id": "31678ba1",
   "metadata": {},
   "outputs": [],
   "source": [
    "## Feature normalization\n",
    "from sklearn.preprocessing import MinMaxScaler\n",
    "scaler = MinMaxScaler()\n",
    "scaler.fit(x_train)\n",
    "\n",
    "x_train = scaler.transform(x_train)\n",
    "x_test = scaler.transform(x_test)"
   ]
  },
  {
   "cell_type": "code",
   "execution_count": null,
   "id": "31e8e5c9",
   "metadata": {},
   "outputs": [],
   "source": [
    "## training a model using 100 % of data and predict spatially over study domain\n",
    "from sklearn.neural_network import MLPRegressor\n",
    "ann_reg = MLPRegressor(hidden_layer_sizes=(200,100,50,), activation= 'tanh', alpha = 0.04, learning_rate = 'adaptive', solver = 'sgd', max_iter=2000)\n",
    "ann_reg.fit(x_train,y_train)\n",
    "\n",
    "y_pred = ann_reg.predict(x_test)\n",
    "print(type(y_pred))"
   ]
  },
  {
   "cell_type": "code",
   "execution_count": null,
   "id": "9ba3e3bd",
   "metadata": {},
   "outputs": [],
   "source": [
    "## save the predictions with other informations\n",
    "np.savetxt(r'x_test_with_oth_info_NO2_24hr_ann_0.1.txt', df_prediction.values, fmt='%f')\n",
    "np.savetxt(r'y_pred_NO2_24hr_ann_0.1.txt', pd.DataFrame(y_pred).values, fmt='%f')\n",
    "\n",
    "#df_prediction.to_csv('x_test_with_oth_info_ann.csv')\n",
    "#pd.DataFrame(y_pred).to_csv(\"y_pred_ann.csv\")"
   ]
  }
 ],
 "metadata": {
  "kernelspec": {
   "display_name": "Python 3 (ipykernel)",
   "language": "python",
   "name": "python3"
  },
  "language_info": {
   "codemirror_mode": {
    "name": "ipython",
    "version": 3
   },
   "file_extension": ".py",
   "mimetype": "text/x-python",
   "name": "python",
   "nbconvert_exporter": "python",
   "pygments_lexer": "ipython3",
   "version": "3.9.7"
  }
 },
 "nbformat": 4,
 "nbformat_minor": 5
}
